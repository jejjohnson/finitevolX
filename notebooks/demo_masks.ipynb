{
 "cells": [
  {
   "cell_type": "markdown",
   "id": "80c50176647ab3dd",
   "metadata": {},
   "source": [
    "# Demo: Masks"
   ]
  },
  {
   "cell_type": "code",
   "execution_count": null,
   "id": "d9cc1809f6ac4960",
   "metadata": {
    "collapsed": false,
    "is_executing": true,
    "jupyter": {
     "outputs_hidden": false
    }
   },
   "outputs": [],
   "source": [
    "import autoroot\n",
    "import jax\n",
    "import jax.numpy as jnp\n",
    "from finitevolx._src.masks.masks import (\n",
    "    MaskGrid\n",
    ")\n",
    "import matplotlib.pyplot as plt\n",
    "import numpy as np\n",
    "\n",
    "%matplotlib inline\n",
    "%load_ext autoreload\n",
    "%autoreload 2"
   ]
  },
  {
   "cell_type": "code",
   "execution_count": 5,
   "id": "2274d64c47cc63c6",
   "metadata": {
    "ExecuteTime": {
     "end_time": "2023-10-30T08:42:05.869188Z",
     "start_time": "2023-10-30T08:42:05.822958Z"
    },
    "collapsed": false,
    "jupyter": {
     "outputs_hidden": false
    }
   },
   "outputs": [],
   "source": [
    "def init_mask_node_rect(n: int=10, init: str=\"node\"):\n",
    "    mask = jnp.ones((n,n))\n",
    "    mask = mask.at[0].set(0.0)\n",
    "    mask = mask.at[-1].set(0.0)\n",
    "    mask = mask.at[:,0].set(0.0)\n",
    "    mask = mask.at[:,-1].set(0.0)\n",
    "    masks = MaskGrid.init_mask(mask, init)\n",
    "    return masks\n",
    "\n",
    "def init_mask_node_island(n: int=10, init: str=\"node\"):\n",
    "    mask = jnp.ones((n,n))\n",
    "    mask = mask.at[0].set(0.0)\n",
    "    mask = mask.at[-1].set(0.0)\n",
    "    mask = mask.at[:,0].set(0.0)\n",
    "    mask = mask.at[:,-1].set(0.0)\n",
    "    mask = mask.at[4:-4,4:-4].set(0.0)\n",
    "    masks = MaskGrid.init_mask(mask, init)\n",
    "    return masks\n",
    "\n",
    "def init_mask_node_channel(n: int=10, init: str=\"node\"):\n",
    "    mask = jnp.ones((n,3*n//4))\n",
    "    mask = mask.at[:,0].set(0.0)\n",
    "    mask = mask.at[:,-1].set(0.0)\n",
    "    masks = MaskGrid.init_mask(mask, init)\n",
    "    return masks\n",
    "\n",
    "def init_mask_center_realish(n: int=10, init: str=\"center\"):\n",
    "    mask = jnp.ones((n,n))\n",
    "    mask = mask.at[1,0].set(0.0)\n",
    "    mask = mask.at[n-1,2].set(0.0)\n",
    "    mask = mask.at[0,n-2].set(0.0)\n",
    "    mask = mask.at[1,n-2].set(0.0)\n",
    "    mask = mask.at[0,n-1].set(0.0)\n",
    "    mask = mask.at[1,n-1].set(0.0)\n",
    "    mask = mask.at[2,n-1].set(0.0)\n",
    "    masks = MaskGrid.init_mask(mask, init)\n",
    "    return masks"
   ]
  },
  {
   "cell_type": "code",
   "execution_count": 12,
   "id": "473db011632b2d28",
   "metadata": {
    "ExecuteTime": {
     "end_time": "2023-10-30T08:52:23.085305Z",
     "start_time": "2023-10-30T08:52:23.055697Z"
    },
    "collapsed": false,
    "jupyter": {
     "outputs_hidden": false
    }
   },
   "outputs": [
    {
     "data": {
      "text/plain": [
       "((0, 0), 0, 1)"
      ]
     },
     "execution_count": 12,
     "metadata": {},
     "output_type": "execute_result"
    }
   ],
   "source": [
    "((0,0),) + (0,1)"
   ]
  },
  {
   "cell_type": "code",
   "execution_count": 6,
   "id": "f1e8823b411d3487",
   "metadata": {
    "ExecuteTime": {
     "end_time": "2023-10-30T08:42:06.902600Z",
     "start_time": "2023-10-30T08:42:06.820727Z"
    },
    "collapsed": false,
    "jupyter": {
     "outputs_hidden": false
    }
   },
   "outputs": [],
   "source": [
    "# n = 6\n",
    "# masks = init_mask_node_rect(n, \"node\")\n",
    "\n",
    "# n = 10\n",
    "# masks = init_mask_node_island(n)\n",
    "# \n",
    "n = 6\n",
    "masks = init_mask_center_realish(n, \"center\")"
   ]
  },
  {
   "cell_type": "code",
   "execution_count": 11,
   "id": "a9941f9290e9641b",
   "metadata": {
    "ExecuteTime": {
     "end_time": "2023-10-30T08:42:43.421273Z",
     "start_time": "2023-10-30T08:42:43.411796Z"
    },
    "collapsed": false,
    "jupyter": {
     "outputs_hidden": false
    }
   },
   "outputs": [
    {
     "data": {
      "text/plain": [
       "(7, 7)"
      ]
     },
     "execution_count": 11,
     "metadata": {},
     "output_type": "execute_result"
    }
   ],
   "source": [
    "masks.center.values_interior.shape"
   ]
  },
  {
   "cell_type": "code",
   "execution_count": 24,
   "id": "e1666272e392f01e",
   "metadata": {
    "ExecuteTime": {
     "end_time": "2023-10-30T08:40:16.775872Z",
     "start_time": "2023-10-30T08:40:16.759336Z"
    },
    "collapsed": false,
    "jupyter": {
     "outputs_hidden": false
    }
   },
   "outputs": [
    {
     "data": {
      "text/plain": [
       "(5, 7)"
      ]
     },
     "execution_count": 24,
     "metadata": {},
     "output_type": "execute_result"
    }
   ],
   "source": [
    "masks.node[1:-1].values.shape"
   ]
  },
  {
   "cell_type": "markdown",
   "id": "18add4b46d8597ac",
   "metadata": {},
   "source": []
  },
  {
   "cell_type": "markdown",
   "id": "fba6cdbfd97dedcb",
   "metadata": {},
   "source": []
  },
  {
   "cell_type": "markdown",
   "id": "769fb3f6b1de61d1",
   "metadata": {},
   "source": [
    "### Quasi-Geostrophic Equations\n",
    "\n",
    "In this example, we will look at how the QG equations reflect this Arakawa C-Grid staggered definition."
   ]
  },
  {
   "cell_type": "markdown",
   "id": "c28971214b359768",
   "metadata": {},
   "source": [
    "$$\n",
    "\\begin{aligned}\n",
    "\\partial_t \\omega &= \n",
    "- \\vec{\\boldsymbol{u}}\\cdot\\nabla\\omega\\\\\n",
    "&= \\partial_x(u\\omega) + \\partial_y(v\\omega) \\\\\n",
    "\\omega &= \\nabla^2\\psi\\\\\n",
    "\\vec{\\boldsymbol{u}} &=\n",
    "\\left[-\\partial_y u, \\partial_x v \\right]^\\top\n",
    "\\end{aligned}\n",
    "$$"
   ]
  },
  {
   "cell_type": "markdown",
   "id": "a50e2eaa6e53c30f",
   "metadata": {},
   "source": [
    "Here, the potential vorticity (PV) variable, $\\omega$, is the principal variable for this PDE and the streamfunction variable, $\\psi$, is a variable which influences .... So we can let $\\omega$ be the variable in the cell center and $\\psi$ can be the variable at the nodes. This is also convenient because the geostrophic gradients of $\\psi$ correspond to the zonal and meridional velocities, $u,v$, which directly correspond to the East-West and North-South faces of the cell.\n"
   ]
  },
  {
   "cell_type": "code",
   "execution_count": 91,
   "id": "aac8b6513bb8b16e",
   "metadata": {
    "ExecuteTime": {
     "end_time": "2023-10-29T12:59:03.155593Z",
     "start_time": "2023-10-29T12:59:03.130243Z"
    },
    "collapsed": false,
    "jupyter": {
     "outputs_hidden": false
    }
   },
   "outputs": [],
   "source": [
    "psi = masks.node\n",
    "u = masks.face_u\n",
    "v = masks.face_v\n",
    "q = masks.center"
   ]
  },
  {
   "cell_type": "markdown",
   "id": "455a7b6794b9252c",
   "metadata": {},
   "source": [
    "### Visualization"
   ]
  },
  {
   "cell_type": "code",
   "execution_count": 92,
   "id": "c76f43c789e13e6f",
   "metadata": {
    "ExecuteTime": {
     "end_time": "2023-10-29T12:59:04.149805Z",
     "start_time": "2023-10-29T12:59:03.994467Z"
    },
    "collapsed": false,
    "jupyter": {
     "outputs_hidden": false
    }
   },
   "outputs": [
    {
     "data": {
      "image/png": "[encoded data removed]",
      "text/plain": [
       "<Figure size 700x700 with 1 Axes>"
      ]
     },
     "metadata": {},
     "output_type": "display_data"
    }
   ],
   "source": [
    "plt.ion()\n",
    "fig,ax =plt.subplots(figsize=(7,7))\n",
    "ax.imshow(q.values.T, origin='lower', cmap='Greys_r', interpolation=None, vmin=-1, label=\"mask\")\n",
    "ax.set_xticks(np.arange(-.5,n+.5)), ax.set_yticks(np.arange(-.5,n+.5))\n",
    "\n",
    "s = 90\n",
    "s2 = 130\n",
    "\n",
    "\n",
    "# PLOT BOUNDARIES\n",
    "psi_xmin, psi_ymin = -.5, -.5\n",
    "ax.scatter(psi_xmin+1+psi.irrbound_xids,psi_ymin+1+psi.irrbound_yids,\n",
    "           s=s, marker='x', label='$\\mathcal{I}$', color='purple')\n",
    "\n",
    "# PLOT STREAM FUNCTION\n",
    "psi_xmin, psi_ymin = -.5, -.5\n",
    "mask_psi_ids = jnp.argwhere(psi.values.squeeze())\n",
    "ax.scatter(psi_xmin+mask_psi_ids[:,0], psi_ymin+mask_psi_ids[:,1],\n",
    "          s=s, marker='s', label='$\\\\psi$', color='black')\n",
    "\n",
    "\n",
    "# PLOT POTENTIAL VORTICITY\n",
    "s = 90\n",
    "s2 = 130\n",
    "q_xmin, q_ymin = 0, 0\n",
    "mask_q_ids = jnp.argwhere(q.values.squeeze())\n",
    "ax.scatter(q_xmin+mask_q_ids[:,0], q_ymin+mask_q_ids[:,1],\n",
    "            s=s, marker='o', label='q', color='tab:red')\n",
    "\n",
    "# PLOT ZONAL VELOCITY\n",
    "u_xmin, u_ymin = -.5, 0\n",
    "mask_u_ids = jnp.argwhere(u.distbound1.squeeze())\n",
    "ax.scatter(u_xmin+mask_u_ids[:,0], u_ymin+mask_u_ids[:,1],\n",
    "            s=s2, marker='>', label='u ic2', color='lightblue')\n",
    "mask_u_ids = jnp.argwhere(u.distbound2.squeeze())\n",
    "ax.scatter(u_xmin+mask_u_ids[:,0], u_ymin+mask_u_ids[:,1],\n",
    "            s=s2, marker='>', label='u iup3', color='cornflowerblue')\n",
    "mask_u_ids = jnp.argwhere(u.distbound3plus.squeeze())\n",
    "ax.scatter(u_xmin+mask_u_ids[:,0], u_ymin+mask_u_ids[:,1],\n",
    "            s=s2, marker='>', label='u iup5', color='navy')\n",
    "\n",
    "# PLOT MERIDIONAL VELOCITY\n",
    "v_xmin, v_ymin = 0, -.5\n",
    "mask_v_ids = jnp.argwhere(v.distbound1.squeeze())\n",
    "ax.scatter(v_xmin+mask_v_ids[:,0], v_ymin+mask_v_ids[:,1],\n",
    "            s=s2, marker='^', label='v ic2', color='gold')\n",
    "mask_v_ids = jnp.argwhere(v.distbound2plus.squeeze())\n",
    "ax.scatter(v_xmin+mask_v_ids[:,0], v_ymin+mask_v_ids[:,1],\n",
    "            s=s2, marker='^', label='v iup3', color='darkorange')\n",
    "mask_v_ids = jnp.argwhere(v.distbound3plus.squeeze())\n",
    "ax.scatter(v_xmin+mask_v_ids[:,0], v_ymin+mask_v_ids[:,1],\n",
    "            s=s2, marker='^', label='v iup5', color='firebrick')\n",
    "\n",
    "\n",
    "ax.grid()\n",
    "plt.legend(loc='upper left')\n",
    "plt.setp(ax.get_xticklabels(), visible=False)\n",
    "plt.setp(ax.get_yticklabels(), visible=False)\n",
    "plt.tight_layout()\n",
    "plt.show()"
   ]
  },
  {
   "cell_type": "markdown",
   "id": "36e0050076ec9fc0",
   "metadata": {},
   "source": [
    "### Shallow Water Equations\n",
    "\n",
    "In this example, we will look at how the Shallow Water Equations are reflected using the Arakawa C-Grid.\n",
    "\n",
    "We will write out the PDE or the Shallow Water Equations using the vector-invariant formulation which involves the potential vorticity.\n"
   ]
  },
  {
   "cell_type": "markdown",
   "id": "98ef6439f905a876",
   "metadata": {},
   "source": [
    "In this equation, we will have 3 PDEs given by the height, $h$, and the zonal and meridional velocities, $(u,v)$.\n",
    "\n",
    "$$\n",
    "\\begin{aligned}\n",
    "\\partial_t h &= \n",
    "- \\nabla \\cdot (\\vec{\\boldsymbol{u}}h) \\\\\n",
    "\\partial_t u &=\n",
    "qhv - \\partial_x p + F_x \\\\\n",
    "\\partial_t v &=\n",
    "- qhu - \\partial_y p + F_y \n",
    "\\end{aligned}\n",
    "$$\n",
    "\n",
    "where $q$ is the potential vorticity and $p$ is the work given by the Bernoulli equation."
   ]
  },
  {
   "cell_type": "markdown",
   "id": "74b9379d11b7bb34",
   "metadata": {},
   "source": [
    "We have the two equations\n",
    "\n",
    "$$\n",
    "\\begin{aligned}\n",
    "\\text{Potential Vorticity}: && && \n",
    "q &= \\frac{\\zeta + f}{h} \\\\\n",
    "\\text{Bernoulli Work}: && && \n",
    "p &= g(h+\\eta_b) + \\frac{1}{2}(u^2 + v^2) \n",
    "\\end{aligned}\n",
    "$$\n",
    "\n",
    "where $\\zeta=\\partial_x v - \\partial_y u$ is the relative vorticity."
   ]
  },
  {
   "cell_type": "markdown",
   "id": "c5b2f2b3feddc221",
   "metadata": {},
   "source": []
  },
  {
   "cell_type": "code",
   "execution_count": 93,
   "id": "fd0d76ee08bad4ac",
   "metadata": {
    "ExecuteTime": {
     "end_time": "2023-10-29T12:59:06.168142Z",
     "start_time": "2023-10-29T12:59:06.150065Z"
    },
    "collapsed": false,
    "jupyter": {
     "outputs_hidden": false
    }
   },
   "outputs": [],
   "source": [
    "q = masks.node\n",
    "u = masks.face_u\n",
    "v = masks.face_v\n",
    "h = masks.center"
   ]
  },
  {
   "cell_type": "code",
   "execution_count": 94,
   "id": "519c8a4f9c9cdcb",
   "metadata": {
    "ExecuteTime": {
     "end_time": "2023-10-29T12:59:06.563684Z",
     "start_time": "2023-10-29T12:59:06.547455Z"
    },
    "collapsed": false,
    "jupyter": {
     "outputs_hidden": false
    }
   },
   "outputs": [
    {
     "data": {
      "text/plain": [
       "Array([[1., 1., 1., 1., 1.],\n",
       "       [1., 1., 1., 1., 1.],\n",
       "       [1., 1., 1., 1., 1.],\n",
       "       [1., 1., 1., 1., 1.],\n",
       "       [1., 1., 1., 1., 1.]], dtype=float32)"
      ]
     },
     "execution_count": 94,
     "metadata": {},
     "output_type": "execute_result"
    }
   ],
   "source": [
    "h.values"
   ]
  },
  {
   "cell_type": "code",
   "execution_count": 95,
   "id": "38ba1a58a846c9de",
   "metadata": {
    "ExecuteTime": {
     "end_time": "2023-10-29T12:59:07.059333Z",
     "start_time": "2023-10-29T12:59:06.923635Z"
    },
    "collapsed": false,
    "jupyter": {
     "outputs_hidden": false
    }
   },
   "outputs": [
    {
     "data": {
      "image/png": "[encoded data removed]",
      "text/plain": [
       "<Figure size 700x700 with 1 Axes>"
      ]
     },
     "metadata": {},
     "output_type": "display_data"
    }
   ],
   "source": [
    "plt.ion()\n",
    "fig,ax =plt.subplots(figsize=(7,7))\n",
    "ax.imshow(h.values.T, origin='lower', cmap='Greys_r', interpolation=None, vmin=-1, label=\"mask\")\n",
    "ax.set_xticks(np.arange(-.5,n+.5)), ax.set_yticks(np.arange(-.5,n+.5))\n",
    "\n",
    "s = 90\n",
    "s2 = 130\n",
    "\n",
    "\n",
    "# PLOT BOUNDARIES\n",
    "q_xmin, q_ymin = -.5, -.5\n",
    "ax.scatter(q_xmin+1+q.irrbound_xids,q_ymin+1+q.irrbound_yids,\n",
    "           s=s, marker='x', label='$\\mathcal{I}$', color='purple')\n",
    "\n",
    "# PLOT PV FUNCTION\n",
    "q_xmin, q_ymin = -.5, -.5\n",
    "mask_q_ids = jnp.argwhere(q.values.squeeze())\n",
    "ax.scatter(q_xmin+mask_q_ids[:,0], q_ymin+mask_q_ids[:,1],\n",
    "          s=s, marker='o', label='$q$', color='tab:red')\n",
    "\n",
    "\n",
    "# PLOT HEIGHT\n",
    "s = 90\n",
    "s2 = 130\n",
    "h_xmin, h_ymin = 0, 0\n",
    "mask_h_ids = jnp.argwhere(h.values.squeeze())\n",
    "ax.scatter(h_xmin+mask_h_ids[:,0], h_ymin+mask_h_ids[:,1],\n",
    "            s=s, marker='s', label='$h$', color='black')\n",
    "\n",
    "# PLOT ZONAL VELOCITY\n",
    "u_xmin, u_ymin = -.5, 0\n",
    "mask_u_ids = jnp.argwhere(u.distbound1.squeeze())\n",
    "ax.scatter(u_xmin+mask_u_ids[:,0], u_ymin+mask_u_ids[:,1],\n",
    "            s=s2, marker='>', label='u ic2', color='lightblue')\n",
    "mask_u_ids = jnp.argwhere(u.distbound2.squeeze())\n",
    "ax.scatter(u_xmin+mask_u_ids[:,0], u_ymin+mask_u_ids[:,1],\n",
    "            s=s2, marker='>', label='u iup3', color='cornflowerblue')\n",
    "mask_u_ids = jnp.argwhere(u.distbound3plus.squeeze())\n",
    "ax.scatter(u_xmin+mask_u_ids[:,0], u_ymin+mask_u_ids[:,1],\n",
    "            s=s2, marker='>', label='u iup5', color='navy')\n",
    "\n",
    "# PLOT MERIDIONAL VELOCITY\n",
    "v_xmin, v_ymin = 0, -.5\n",
    "mask_v_ids = jnp.argwhere(v.distbound1.squeeze())\n",
    "ax.scatter(v_xmin+mask_v_ids[:,0], v_ymin+mask_v_ids[:,1],\n",
    "            s=s2, marker='^', label='v ic2', color='gold')\n",
    "mask_v_ids = jnp.argwhere(v.distbound2plus.squeeze())\n",
    "ax.scatter(v_xmin+mask_v_ids[:,0], v_ymin+mask_v_ids[:,1],\n",
    "            s=s2, marker='^', label='v iup3', color='darkorange')\n",
    "mask_v_ids = jnp.argwhere(v.distbound3plus.squeeze())\n",
    "ax.scatter(v_xmin+mask_v_ids[:,0], v_ymin+mask_v_ids[:,1],\n",
    "            s=s2, marker='^', label='v iup5', color='firebrick')\n",
    "\n",
    "\n",
    "ax.grid()\n",
    "plt.legend(loc='upper left')\n",
    "plt.setp(ax.get_xticklabels(), visible=False)\n",
    "plt.setp(ax.get_yticklabels(), visible=False)\n",
    "plt.tight_layout()\n",
    "plt.show()"
   ]
  },
  {
   "cell_type": "code",
   "execution_count": null,
   "id": "790965785beb157d",
   "metadata": {
    "collapsed": false,
    "jupyter": {
     "outputs_hidden": false
    }
   },
   "outputs": [],
   "source": []
  }
 ],
 "metadata": {
  "kernelspec": {
   "display_name": "oceanbench",
   "language": "python",
   "name": "oceanbench"
  },
  "language_info": {
   "codemirror_mode": {
    "name": "ipython",
    "version": 3
   },
   "file_extension": ".py",
   "mimetype": "text/x-python",
   "name": "python",
   "nbconvert_exporter": "python",
   "pygments_lexer": "ipython3",
   "version": "3.11.5"
  }
 },
 "nbformat": 4,
 "nbformat_minor": 5
}
